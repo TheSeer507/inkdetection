{
 "cells": [
  {
   "cell_type": "code",
   "execution_count": null,
   "metadata": {},
   "outputs": [],
   "source": [
    "#Initial Setup and importing libraries\n",
    "import tensorflow as tf\n",
    "from tensorflow import keras\n",
    "from tensorflow.keras import layers\n",
    "import numpy as np\n",
    "\n",
    "import time\n",
    "import glob\n",
    "import PIL.Image as Image\n",
    "import matplotlib.pyplot as plt\n",
    "import matplotlib.patches as patches\n",
    "from tqdm import tqdm\n",
    "\n",
    "#data config\n",
    "DATA_DIR = 'kaggle/input/vesuvius-challenge-ink-detection/'\n",
    "BUFFER = 32\n",
    "Z_DIM = 16\n",
    "Z_START = 25\n",
    "\n",
    "BATCH_SIZE = 64\n",
    "\n",
    "plt.imshow(Image.open(DATA_DIR + \"train/1/ir.png\"), cmap=\"gray\")"
   ]
  },
  {
   "cell_type": "code",
   "execution_count": null,
   "metadata": {},
   "outputs": [],
   "source": []
  }
 ],
 "metadata": {
  "kernelspec": {
   "display_name": "Python 3",
   "language": "python",
   "name": "python3"
  },
  "language_info": {
   "name": "python",
   "version": "3.9.7"
  },
  "orig_nbformat": 4
 },
 "nbformat": 4,
 "nbformat_minor": 2
}
